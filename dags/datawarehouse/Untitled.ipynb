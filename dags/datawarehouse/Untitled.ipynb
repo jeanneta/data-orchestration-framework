{
 "cells": [
  {
   "cell_type": "code",
   "execution_count": 2,
   "id": "741adf4f-b227-4fdb-9d95-1f55d5edb220",
   "metadata": {},
   "outputs": [],
   "source": [
    "import psycopg2\n",
    "import paramiko\n",
    "import pandas as pd\n",
    "from paramiko import SSHClient\n",
    "from os.path import expanduser\n",
    "# from MySQLdb import _mysql\n",
    "import pymysql as MySQLdb\n",
    "import psycopg2 as pg\n"
   ]
  },
  {
   "cell_type": "code",
   "execution_count": 3,
   "id": "56c4dd8e-a0b0-43c1-92cb-90e6432135cd",
   "metadata": {},
   "outputs": [],
   "source": [
    "import json\n",
    "import numpy as np\n",
    "import time\n",
    "import requests"
   ]
  },
  {
   "cell_type": "code",
   "execution_count": 55,
   "id": "56e6fbbb-a063-4b64-af3b-f9b6bdb4eb14",
   "metadata": {},
   "outputs": [],
   "source": [
    "import psutil\n",
    "import os\n",
    "import datetime\n",
    "from datetime import timedelta\n",
    "from io import StringIO\n",
    "import io\n",
    "from dateutil import parser\n",
    "from datetime import datetime\n",
    "\n",
    "\n",
    "from sshtunnel import SSHTunnelForwarder\n",
    "import pymysql\n",
    "import paramiko\n",
    "from paramiko import SSHClient\n",
    "from sshtunnel import SSHTunnelForwarder\n",
    "from os.path import expanduser\n",
    "import pymysql as MySQLdb\n",
    "\n",
    "from flask import Flask, request\n"
   ]
  },
  {
   "cell_type": "code",
   "execution_count": 119,
   "id": "7bb90adb-835c-4359-ab83-34a9a30a6ad1",
   "metadata": {},
   "outputs": [],
   "source": [
    "import psycopg2 as pg\n",
    "\n",
    "def upsert_into_table(conn, df, table, idx):\n",
    "    tuples = [tuple(x) for x in df.to_numpy()]\n",
    "    cols = ','.join([f'\"{col}\"' for col in df.columns])  # Ensure column names are quoted\n",
    "    \n",
    "    updated_cols = ', '.join([f'\"{col}\"=EXCLUDED.\"{col}\"' for col in df.columns[1:]])\n",
    "    placeholders = ', '.join([\"%s\"] * len(df.columns))\n",
    "    idx_cols = ', '.join([f'\"{col}\"' for col in idx])  # Ensure index column names are quoted\n",
    "\n",
    "    query = f\"\"\"\n",
    "        INSERT INTO {table} ({cols}) VALUES ({placeholders})\n",
    "        ON CONFLICT ({idx_cols}) DO UPDATE SET {updated_cols}\n",
    "    \"\"\"\n",
    "\n",
    "    try:\n",
    "        with conn.cursor() as cursor:\n",
    "            cursor.executemany(query, tuples)\n",
    "            conn.commit()\n",
    "        print(f\"[UPSERT DONE] {table}\")\n",
    "    except (Exception, pg.DatabaseError) as error:\n",
    "        print(f\"Error: {error}\")\n",
    "        conn.rollback()\n",
    "        return 1\n",
    "\n",
    "    return 0\n",
    "\n",
    "\n",
    "\n",
    "def insert_into_table(conn, df, table):\n",
    "    tuples = [tuple(x) for x in df.to_numpy()]\n",
    "    cols = ','.join([f'\"{col}\"' for col in df.columns])  # Ensure column names are quoted\n",
    "    \n",
    "    placeholders = ', '.join([\"%s\"] * len(df.columns))\n",
    "    query = f\"INSERT INTO {table} ({cols}) VALUES ({placeholders})\"\n",
    "\n",
    "    try:\n",
    "        with conn.cursor() as cursor:\n",
    "            cursor.executemany(query, tuples)\n",
    "            conn.commit()\n",
    "        print(f\"[INSERT DONE] {table}\")\n",
    "    except (Exception, pg.DatabaseError) as error:\n",
    "        print(f\"Error: {error}\")\n",
    "        conn.rollback()\n",
    "        return 1\n",
    "\n",
    "    return 0\n",
    "\n",
    "\n",
    "def get_process_memory():\n",
    "    process = psutil.Process(os.getpid())\n",
    "    return (process.memory_info().rss/1000000)\n",
    "\n",
    "# curr_date = (datetime.now())\n",
    "# print(\"[SCRIPT RUNNING ON] : \", curr_date)\n",
    "\n",
    "# if len(sys.argv) == 3:\n",
    "#     start_date = sys.argv[1]\n",
    "#     end_date = sys.argv[2]\n",
    "# elif len(sys.argv) > 1:\n",
    "#     start_date = sys.argv[1] + \" 00:00:00\"\n",
    "#     end_date = sys.argv[1] + \" 23:59:59\"\n",
    "# else:\n",
    "#     start_date = ((datetime.now() - timedelta(days=2)).strftime(\"%Y-%m-%d\"))\n",
    "#     end_date = ((datetime.now() - timedelta(days=1)).strftime(\"%Y-%m-%d\"))\n",
    "\n",
    "# print(\"[START DATE AND END DATE] : \", start_date,\" \", end_date)\n",
    "\n",
    "\n",
    "\n",
    "memory_start = get_process_memory()"
   ]
  },
  {
   "cell_type": "code",
   "execution_count": null,
   "id": "dc767755-5aca-48ed-afd9-c3ca4008a68b",
   "metadata": {},
   "outputs": [],
   "source": []
  },
  {
   "cell_type": "code",
   "execution_count": null,
   "id": "f4ced2eb-158f-444a-8be6-dceb5d4224ef",
   "metadata": {},
   "outputs": [],
   "source": []
  },
  {
   "cell_type": "markdown",
   "id": "86582f4e-eb6e-49b8-a08e-a177e8f91ad6",
   "metadata": {},
   "source": [
    "## **dim_payroll**"
   ]
  },
  {
   "cell_type": "code",
   "execution_count": 112,
   "id": "baeccd82-46af-45ec-82b9-eb145e65e96b",
   "metadata": {},
   "outputs": [],
   "source": [
    "params = {\n",
    "    'dbname': \"champydwh\",\n",
    "    'user': \"jeannetaoliviasantoso\",\n",
    "    'password': \"\",\n",
    "    'host': 'localhost',\n",
    "    'port': 5432\n",
    "    # 'port': server.local_bind_port\n",
    "\n",
    "}\n",
    "\n",
    "conn = psycopg2.connect(**params) "
   ]
  },
  {
   "cell_type": "code",
   "execution_count": 113,
   "id": "f44f16f0-cd99-4ccd-bdad-1aee8dbf4cd0",
   "metadata": {},
   "outputs": [
    {
     "name": "stdout",
     "output_type": "stream",
     "text": [
      "database connected\n"
     ]
    }
   ],
   "source": [
    "curs = conn.cursor()\n",
    "print (\"database connected\")"
   ]
  },
  {
   "cell_type": "code",
   "execution_count": null,
   "id": "b3f99e6d-4490-46c0-9764-e8cf1eaaf8be",
   "metadata": {},
   "outputs": [],
   "source": []
  },
  {
   "cell_type": "code",
   "execution_count": 114,
   "id": "3b928b27-9fae-402d-a7ea-f4ef48682ea6",
   "metadata": {},
   "outputs": [],
   "source": [
    "\n",
    "\n",
    "query = f\"\"\"\n",
    "SELECT \n",
    "    \"EmployeeID\", \n",
    "    \"PaymentDate\"\n",
    "FROM data_payroll_champy_raw;\n",
    "\n",
    "\"\"\"\n",
    "\n",
    "cursor = conn.cursor()\n",
    "\n",
    "cursor.execute(query)\n",
    "row_arr = cursor.fetchall()"
   ]
  },
  {
   "cell_type": "code",
   "execution_count": 115,
   "id": "98a99756-8ee3-42c9-830c-72bacd337618",
   "metadata": {},
   "outputs": [
    {
     "name": "stderr",
     "output_type": "stream",
     "text": [
      "/var/folders/6b/fc_hx84s2h99scnnc9qdmz9h0000gn/T/ipykernel_67092/1553155693.py:1: UserWarning: pandas only supports SQLAlchemy connectable (engine/connection) or database string URI or sqlite3 DBAPI2 connection. Other DBAPI2 objects are not tested. Please consider using SQLAlchemy.\n",
      "  df = pd.read_sql_query(query, conn)\n"
     ]
    }
   ],
   "source": [
    "df = pd.read_sql_query(query, conn)"
   ]
  },
  {
   "cell_type": "code",
   "execution_count": 116,
   "id": "2eaf603c-ee15-4044-84f0-de2c476bf921",
   "metadata": {},
   "outputs": [
    {
     "data": {
      "text/html": [
       "<div>\n",
       "<style scoped>\n",
       "    .dataframe tbody tr th:only-of-type {\n",
       "        vertical-align: middle;\n",
       "    }\n",
       "\n",
       "    .dataframe tbody tr th {\n",
       "        vertical-align: top;\n",
       "    }\n",
       "\n",
       "    .dataframe thead th {\n",
       "        text-align: right;\n",
       "    }\n",
       "</style>\n",
       "<table border=\"1\" class=\"dataframe\">\n",
       "  <thead>\n",
       "    <tr style=\"text-align: right;\">\n",
       "      <th></th>\n",
       "      <th>EmployeeID</th>\n",
       "      <th>PaymentDate</th>\n",
       "    </tr>\n",
       "  </thead>\n",
       "  <tbody>\n",
       "    <tr>\n",
       "      <th>0</th>\n",
       "      <td>102</td>\n",
       "      <td>2024-09-01</td>\n",
       "    </tr>\n",
       "    <tr>\n",
       "      <th>1</th>\n",
       "      <td>103</td>\n",
       "      <td>2024-09-01</td>\n",
       "    </tr>\n",
       "    <tr>\n",
       "      <th>2</th>\n",
       "      <td>104</td>\n",
       "      <td>2024-09-01</td>\n",
       "    </tr>\n",
       "    <tr>\n",
       "      <th>3</th>\n",
       "      <td>105</td>\n",
       "      <td>2024-08-30</td>\n",
       "    </tr>\n",
       "    <tr>\n",
       "      <th>4</th>\n",
       "      <td>107</td>\n",
       "      <td>2024-09-03</td>\n",
       "    </tr>\n",
       "    <tr>\n",
       "      <th>...</th>\n",
       "      <td>...</td>\n",
       "      <td>...</td>\n",
       "    </tr>\n",
       "    <tr>\n",
       "      <th>551</th>\n",
       "      <td>1194</td>\n",
       "      <td>2024-08-30</td>\n",
       "    </tr>\n",
       "    <tr>\n",
       "      <th>552</th>\n",
       "      <td>1195</td>\n",
       "      <td>2024-09-10</td>\n",
       "    </tr>\n",
       "    <tr>\n",
       "      <th>553</th>\n",
       "      <td>1197</td>\n",
       "      <td>2024-08-19</td>\n",
       "    </tr>\n",
       "    <tr>\n",
       "      <th>554</th>\n",
       "      <td>1198</td>\n",
       "      <td>2024-08-26</td>\n",
       "    </tr>\n",
       "    <tr>\n",
       "      <th>555</th>\n",
       "      <td>1199</td>\n",
       "      <td>2024-08-25</td>\n",
       "    </tr>\n",
       "  </tbody>\n",
       "</table>\n",
       "<p>556 rows × 2 columns</p>\n",
       "</div>"
      ],
      "text/plain": [
       "     EmployeeID PaymentDate\n",
       "0           102  2024-09-01\n",
       "1           103  2024-09-01\n",
       "2           104  2024-09-01\n",
       "3           105  2024-08-30\n",
       "4           107  2024-09-03\n",
       "..          ...         ...\n",
       "551        1194  2024-08-30\n",
       "552        1195  2024-09-10\n",
       "553        1197  2024-08-19\n",
       "554        1198  2024-08-26\n",
       "555        1199  2024-08-25\n",
       "\n",
       "[556 rows x 2 columns]"
      ]
     },
     "execution_count": 116,
     "metadata": {},
     "output_type": "execute_result"
    }
   ],
   "source": [
    "df"
   ]
  },
  {
   "cell_type": "code",
   "execution_count": 117,
   "id": "655b0f55-194c-41c5-ad87-69dedc6d94d9",
   "metadata": {},
   "outputs": [],
   "source": [
    "# accumulated_df_raw = accumulated_df_raw.replace([np.nan, np.inf, -np.inf], None)\n"
   ]
  },
  {
   "cell_type": "code",
   "execution_count": null,
   "id": "9c41e600-a31a-4aec-ba33-a7cd53ed4087",
   "metadata": {},
   "outputs": [],
   "source": []
  },
  {
   "cell_type": "code",
   "execution_count": 121,
   "id": "cf41f2ba-fa6f-478b-88fa-8aa0cebd8743",
   "metadata": {},
   "outputs": [
    {
     "name": "stdout",
     "output_type": "stream",
     "text": [
      "[INSERT DONE] dim_payroll\n"
     ]
    }
   ],
   "source": [
    "\n",
    "# Connection params\n",
    "params = {\n",
    "    'dbname': \"champydwh\",\n",
    "    'user': \"jeannetaoliviasantoso\",\n",
    "    'password': \"\",\n",
    "    'host': 'localhost',\n",
    "    'port': 5432\n",
    "}\n",
    "\n",
    "# Connect to PostgreSQL\n",
    "conn = psycopg2.connect(**params)\n",
    "\n",
    "# Insert data\n",
    "error_status = insert_into_table(conn, df, 'dim_payroll')\n",
    "\n",
    "# Upsert data (if needed)\n",
    "# error_status = upsert_into_table_manual(conn, df, 'dim_payroll', [\"EmployeeID\", \"PaymentDate\"])\n",
    "\n",
    "# Close connection\n",
    "conn.close()\n"
   ]
  },
  {
   "cell_type": "code",
   "execution_count": null,
   "id": "8532db54-191e-4313-823c-fed694ac40e4",
   "metadata": {},
   "outputs": [],
   "source": []
  },
  {
   "cell_type": "markdown",
   "id": "1ca09a53-3f7c-464a-b69b-fb1c33a86f57",
   "metadata": {},
   "source": [
    "## **dim_payroll**"
   ]
  },
  {
   "cell_type": "code",
   "execution_count": 63,
   "id": "aa56221a-3c0d-41a0-8074-e0e5aedf3663",
   "metadata": {},
   "outputs": [
    {
     "name": "stdout",
     "output_type": "stream",
     "text": [
      "database connected\n"
     ]
    }
   ],
   "source": [
    "params = {\n",
    "    'dbname': \"champydwh\",\n",
    "    'user': \"jeannetaoliviasantoso\",\n",
    "    'password': \"\",\n",
    "    'host': 'localhost',\n",
    "    'port': 5432\n",
    "    # 'port': server.local_bind_port\n",
    "\n",
    "}\n",
    "\n",
    "conn = psycopg2.connect(**params) \n",
    "curs = conn.cursor()\n",
    "print (\"database connected\")"
   ]
  },
  {
   "cell_type": "code",
   "execution_count": 64,
   "id": "367ea92c-eb11-4dbf-92a6-304b29af84bc",
   "metadata": {},
   "outputs": [],
   "source": [
    "\n",
    "\n",
    "query = f\"\"\"\n",
    "SELECT \n",
    "    \"EmployeeID\", \n",
    "    \"ReviewPeriod\", \n",
    "    \"Rating\", \n",
    "    \"Comments\", \n",
    "    'SAMPLE' as \"Prediction\"\n",
    "FROM data_performance_champy_raw;\n",
    "\n",
    "\n",
    "\"\"\"\n",
    "\n",
    "cursor = conn.cursor()\n",
    "\n",
    "cursor.execute(query)\n",
    "row_arr = cursor.fetchall()"
   ]
  },
  {
   "cell_type": "code",
   "execution_count": 65,
   "id": "1d4c178e-65a9-49f6-90d3-1c2bf1f8b663",
   "metadata": {},
   "outputs": [
    {
     "name": "stderr",
     "output_type": "stream",
     "text": [
      "/var/folders/6b/fc_hx84s2h99scnnc9qdmz9h0000gn/T/ipykernel_67092/1183641329.py:1: UserWarning: pandas only supports SQLAlchemy connectable (engine/connection) or database string URI or sqlite3 DBAPI2 connection. Other DBAPI2 objects are not tested. Please consider using SQLAlchemy.\n",
      "  df_dim_payroll = pd.read_sql_query(query, conn)\n"
     ]
    }
   ],
   "source": [
    "df_dim_payroll = pd.read_sql_query(query, conn)"
   ]
  },
  {
   "cell_type": "code",
   "execution_count": 66,
   "id": "56dbdcf3-c94e-43c3-b6cc-40948e3d66bb",
   "metadata": {},
   "outputs": [
    {
     "data": {
      "text/html": [
       "<div>\n",
       "<style scoped>\n",
       "    .dataframe tbody tr th:only-of-type {\n",
       "        vertical-align: middle;\n",
       "    }\n",
       "\n",
       "    .dataframe tbody tr th {\n",
       "        vertical-align: top;\n",
       "    }\n",
       "\n",
       "    .dataframe thead th {\n",
       "        text-align: right;\n",
       "    }\n",
       "</style>\n",
       "<table border=\"1\" class=\"dataframe\">\n",
       "  <thead>\n",
       "    <tr style=\"text-align: right;\">\n",
       "      <th></th>\n",
       "      <th>EmployeeID</th>\n",
       "      <th>ReviewPeriod</th>\n",
       "      <th>Rating</th>\n",
       "      <th>Comments</th>\n",
       "      <th>Prediction</th>\n",
       "    </tr>\n",
       "  </thead>\n",
       "  <tbody>\n",
       "    <tr>\n",
       "      <th>0</th>\n",
       "      <td>102</td>\n",
       "      <td>Q2 2023</td>\n",
       "      <td>2.6</td>\n",
       "      <td>Good performance</td>\n",
       "      <td>SAMPLE</td>\n",
       "    </tr>\n",
       "    <tr>\n",
       "      <th>1</th>\n",
       "      <td>103</td>\n",
       "      <td>Q3 2023</td>\n",
       "      <td>1.5</td>\n",
       "      <td>Good performance</td>\n",
       "      <td>SAMPLE</td>\n",
       "    </tr>\n",
       "    <tr>\n",
       "      <th>2</th>\n",
       "      <td>104</td>\n",
       "      <td>Q4 2023</td>\n",
       "      <td>4.2</td>\n",
       "      <td>Good performance</td>\n",
       "      <td>SAMPLE</td>\n",
       "    </tr>\n",
       "    <tr>\n",
       "      <th>3</th>\n",
       "      <td>105</td>\n",
       "      <td>Q1 2023</td>\n",
       "      <td>4.7</td>\n",
       "      <td>Needs improvement</td>\n",
       "      <td>SAMPLE</td>\n",
       "    </tr>\n",
       "    <tr>\n",
       "      <th>4</th>\n",
       "      <td>107</td>\n",
       "      <td>Q3 2023</td>\n",
       "      <td>4.7</td>\n",
       "      <td>Excellent performance</td>\n",
       "      <td>SAMPLE</td>\n",
       "    </tr>\n",
       "  </tbody>\n",
       "</table>\n",
       "</div>"
      ],
      "text/plain": [
       "   EmployeeID ReviewPeriod  Rating               Comments Prediction\n",
       "0         102      Q2 2023     2.6       Good performance     SAMPLE\n",
       "1         103      Q3 2023     1.5       Good performance     SAMPLE\n",
       "2         104      Q4 2023     4.2       Good performance     SAMPLE\n",
       "3         105      Q1 2023     4.7      Needs improvement     SAMPLE\n",
       "4         107      Q3 2023     4.7  Excellent performance     SAMPLE"
      ]
     },
     "execution_count": 66,
     "metadata": {},
     "output_type": "execute_result"
    }
   ],
   "source": [
    "df_dim_payroll.head(5)"
   ]
  },
  {
   "cell_type": "code",
   "execution_count": 93,
   "id": "e1671950-84d8-45cb-8d22-b7ead236958c",
   "metadata": {},
   "outputs": [
    {
     "name": "stdout",
     "output_type": "stream",
     "text": [
      "Error: column \"PaymentDate\" of relation \"dim_performance\" does not exist\n",
      "LINE 1: INSERT INTO dim_performance (\"EmployeeID\",\"PaymentDate\") VAL...\n",
      "                                                  ^\n",
      "\n",
      "Error: column \"PaymentDate\" of relation \"dim_performance\" does not exist\n",
      "LINE 1: INSERT INTO dim_performance (\"EmployeeID\",\"PaymentDate\") VAL...\n",
      "                                                  ^\n",
      "\n"
     ]
    }
   ],
   "source": [
    "\n",
    "# Connection params\n",
    "params = {\n",
    "    'dbname': \"champydwh\",\n",
    "    'user': \"jeannetaoliviasantoso\",\n",
    "    'password': \"\",\n",
    "    'host': 'localhost',\n",
    "    'port': 5432\n",
    "}\n",
    "\n",
    "# Connect to PostgreSQL\n",
    "conn = psycopg2.connect(**params)\n",
    "\n",
    "# Insert data\n",
    "error_status = insert_into_table(conn, df_dim_payroll[:2], 'dim_performance')\n",
    "\n",
    "# Upsert data (if needed)\n",
    "error_status = upsert_into_table(conn, df, 'dim_performance', ['EmployeeID', 'PaymentDate'])\n",
    "\n",
    "# Close connection\n",
    "conn.close()\n"
   ]
  },
  {
   "cell_type": "code",
   "execution_count": 70,
   "id": "e34bfbee-c968-4b56-b6de-794eb5741683",
   "metadata": {},
   "outputs": [
    {
     "data": {
      "text/html": [
       "<div>\n",
       "<style scoped>\n",
       "    .dataframe tbody tr th:only-of-type {\n",
       "        vertical-align: middle;\n",
       "    }\n",
       "\n",
       "    .dataframe tbody tr th {\n",
       "        vertical-align: top;\n",
       "    }\n",
       "\n",
       "    .dataframe thead th {\n",
       "        text-align: right;\n",
       "    }\n",
       "</style>\n",
       "<table border=\"1\" class=\"dataframe\">\n",
       "  <thead>\n",
       "    <tr style=\"text-align: right;\">\n",
       "      <th></th>\n",
       "      <th>EmployeeID</th>\n",
       "      <th>ReviewPeriod</th>\n",
       "      <th>Rating</th>\n",
       "      <th>Comments</th>\n",
       "      <th>Prediction</th>\n",
       "    </tr>\n",
       "  </thead>\n",
       "  <tbody>\n",
       "    <tr>\n",
       "      <th>0</th>\n",
       "      <td>102</td>\n",
       "      <td>Q2 2023</td>\n",
       "      <td>2.6</td>\n",
       "      <td>Good performance</td>\n",
       "      <td>SAMPLE</td>\n",
       "    </tr>\n",
       "    <tr>\n",
       "      <th>1</th>\n",
       "      <td>103</td>\n",
       "      <td>Q3 2023</td>\n",
       "      <td>1.5</td>\n",
       "      <td>Good performance</td>\n",
       "      <td>SAMPLE</td>\n",
       "    </tr>\n",
       "  </tbody>\n",
       "</table>\n",
       "</div>"
      ],
      "text/plain": [
       "   EmployeeID ReviewPeriod  Rating          Comments Prediction\n",
       "0         102      Q2 2023     2.6  Good performance     SAMPLE\n",
       "1         103      Q3 2023     1.5  Good performance     SAMPLE"
      ]
     },
     "execution_count": 70,
     "metadata": {},
     "output_type": "execute_result"
    }
   ],
   "source": [
    "df_dim_payroll[:2]"
   ]
  },
  {
   "cell_type": "code",
   "execution_count": 71,
   "id": "92fb894f-1d7e-46da-ba40-b37766f04e64",
   "metadata": {},
   "outputs": [],
   "source": []
  },
  {
   "cell_type": "code",
   "execution_count": null,
   "id": "9550b92e-ca8a-4609-aed3-c5d740953a7c",
   "metadata": {},
   "outputs": [],
   "source": [
    "dim_payroll_query = read_sql_query('dim_payroll_query.sql')\n",
    "print('[INFO] service etl dim_payroll is running...')\n",
    "\n",
    "# Data fact_employee_query ETL\n",
    "print('[INFO] Fetching data for dim_payroll...')\n",
    "df_dim_payroll = pd.read_sql(dim_payroll_query, engine_dwh)\n",
    "print(df_dim_payroll.head(5))\n",
    "# Insert data\n",
    "error_status = insert_into_table(conn_dwh, df_dim_payroll, 'dim_payroll')\n",
    "\n",
    "# Close connection\n",
    "conn_dwh.close()"
   ]
  },
  {
   "cell_type": "code",
   "execution_count": null,
   "id": "aef3f8f6-aaae-4d52-a3a5-fefdfd054f90",
   "metadata": {},
   "outputs": [],
   "source": []
  },
  {
   "cell_type": "code",
   "execution_count": null,
   "id": "c66e73be-2663-4b3c-a5ea-39396190b246",
   "metadata": {},
   "outputs": [],
   "source": [
    "etl_process_postgresql_dim(query_file, table):\n",
    "    dim_query = read_sql_query(query_file)\n",
    "    print(f\"[INFO] service etl {query_file} is running...\")\n",
    "    \n",
    "    # Data fact_employee_query ETL\n",
    "    print(f\"[INFO] Fetching data for {query_file}...\")\n",
    "    df = pd.read_sql(dim_query, engine_dwh)\n",
    "    print(df.head(5))\n",
    "    # Insert data\n",
    "    error_status = insert_into_table(conn_dwh, df, table)\n",
    "    \n",
    "    # Close connection\n",
    "    conn_dwh.close()"
   ]
  },
  {
   "cell_type": "code",
   "execution_count": null,
   "id": "d5c7b474-137c-4217-9417-289339a28f8a",
   "metadata": {},
   "outputs": [],
   "source": []
  },
  {
   "cell_type": "code",
   "execution_count": null,
   "id": "b966133e-fd5b-4f08-8f4d-8997e478fbdf",
   "metadata": {},
   "outputs": [],
   "source": []
  },
  {
   "cell_type": "code",
   "execution_count": null,
   "id": "cd7f457e-9556-4c75-893e-27648aba2e4a",
   "metadata": {},
   "outputs": [],
   "source": []
  },
  {
   "cell_type": "code",
   "execution_count": 74,
   "id": "e38a2d90-186b-4ce4-a435-bc80faf1a929",
   "metadata": {},
   "outputs": [
    {
     "name": "stdout",
     "output_type": "stream",
     "text": [
      "Requirement already satisfied: pyspark in /Users/jeannetaoliviasantoso/anaconda3/lib/python3.12/site-packages (3.5.2)\n",
      "Requirement already satisfied: py4j==0.10.9.7 in /Users/jeannetaoliviasantoso/anaconda3/lib/python3.12/site-packages (from pyspark) (0.10.9.7)\n",
      "Note: you may need to restart the kernel to use updated packages.\n"
     ]
    }
   ],
   "source": [
    "pip install pyspark\n"
   ]
  },
  {
   "cell_type": "code",
   "execution_count": 75,
   "id": "a3e68b81-a57c-476a-8b61-78eb586c26df",
   "metadata": {},
   "outputs": [
    {
     "name": "stdout",
     "output_type": "stream",
     "text": [
      "Requirement already satisfied: notebook in /Users/jeannetaoliviasantoso/anaconda3/lib/python3.12/site-packages (7.2.2)\n",
      "Requirement already satisfied: jupyter-server<3,>=2.4.0 in /Users/jeannetaoliviasantoso/anaconda3/lib/python3.12/site-packages (from notebook) (2.14.1)\n",
      "Requirement already satisfied: jupyterlab-server<3,>=2.27.1 in /Users/jeannetaoliviasantoso/anaconda3/lib/python3.12/site-packages (from notebook) (2.27.3)\n",
      "Requirement already satisfied: jupyterlab<4.3,>=4.2.0 in /Users/jeannetaoliviasantoso/anaconda3/lib/python3.12/site-packages (from notebook) (4.2.5)\n",
      "Requirement already satisfied: notebook-shim<0.3,>=0.2 in /Users/jeannetaoliviasantoso/anaconda3/lib/python3.12/site-packages (from notebook) (0.2.3)\n",
      "Requirement already satisfied: tornado>=6.2.0 in /Users/jeannetaoliviasantoso/anaconda3/lib/python3.12/site-packages (from notebook) (6.4.1)\n",
      "Requirement already satisfied: anyio>=3.1.0 in /Users/jeannetaoliviasantoso/anaconda3/lib/python3.12/site-packages (from jupyter-server<3,>=2.4.0->notebook) (4.2.0)\n",
      "Requirement already satisfied: argon2-cffi>=21.1 in /Users/jeannetaoliviasantoso/anaconda3/lib/python3.12/site-packages (from jupyter-server<3,>=2.4.0->notebook) (21.3.0)\n",
      "Requirement already satisfied: jinja2>=3.0.3 in /Users/jeannetaoliviasantoso/anaconda3/lib/python3.12/site-packages (from jupyter-server<3,>=2.4.0->notebook) (3.1.4)\n",
      "Requirement already satisfied: jupyter-client>=7.4.4 in /Users/jeannetaoliviasantoso/anaconda3/lib/python3.12/site-packages (from jupyter-server<3,>=2.4.0->notebook) (8.6.0)\n",
      "Requirement already satisfied: jupyter-core!=5.0.*,>=4.12 in /Users/jeannetaoliviasantoso/anaconda3/lib/python3.12/site-packages (from jupyter-server<3,>=2.4.0->notebook) (5.7.2)\n",
      "Requirement already satisfied: jupyter-events>=0.9.0 in /Users/jeannetaoliviasantoso/anaconda3/lib/python3.12/site-packages (from jupyter-server<3,>=2.4.0->notebook) (0.10.0)\n",
      "Requirement already satisfied: jupyter-server-terminals>=0.4.4 in /Users/jeannetaoliviasantoso/anaconda3/lib/python3.12/site-packages (from jupyter-server<3,>=2.4.0->notebook) (0.4.4)\n",
      "Requirement already satisfied: nbconvert>=6.4.4 in /Users/jeannetaoliviasantoso/anaconda3/lib/python3.12/site-packages (from jupyter-server<3,>=2.4.0->notebook) (7.16.4)\n",
      "Requirement already satisfied: nbformat>=5.3.0 in /Users/jeannetaoliviasantoso/anaconda3/lib/python3.12/site-packages (from jupyter-server<3,>=2.4.0->notebook) (5.10.4)\n",
      "Requirement already satisfied: overrides>=5.0 in /Users/jeannetaoliviasantoso/anaconda3/lib/python3.12/site-packages (from jupyter-server<3,>=2.4.0->notebook) (7.4.0)\n",
      "Requirement already satisfied: packaging>=22.0 in /Users/jeannetaoliviasantoso/anaconda3/lib/python3.12/site-packages (from jupyter-server<3,>=2.4.0->notebook) (24.1)\n",
      "Requirement already satisfied: prometheus-client>=0.9 in /Users/jeannetaoliviasantoso/anaconda3/lib/python3.12/site-packages (from jupyter-server<3,>=2.4.0->notebook) (0.14.1)\n",
      "Requirement already satisfied: pyzmq>=24 in /Users/jeannetaoliviasantoso/anaconda3/lib/python3.12/site-packages (from jupyter-server<3,>=2.4.0->notebook) (25.1.2)\n",
      "Requirement already satisfied: send2trash>=1.8.2 in /Users/jeannetaoliviasantoso/anaconda3/lib/python3.12/site-packages (from jupyter-server<3,>=2.4.0->notebook) (1.8.2)\n",
      "Requirement already satisfied: terminado>=0.8.3 in /Users/jeannetaoliviasantoso/anaconda3/lib/python3.12/site-packages (from jupyter-server<3,>=2.4.0->notebook) (0.17.1)\n",
      "Requirement already satisfied: traitlets>=5.6.0 in /Users/jeannetaoliviasantoso/anaconda3/lib/python3.12/site-packages (from jupyter-server<3,>=2.4.0->notebook) (5.14.3)\n",
      "Requirement already satisfied: websocket-client>=1.7 in /Users/jeannetaoliviasantoso/anaconda3/lib/python3.12/site-packages (from jupyter-server<3,>=2.4.0->notebook) (1.8.0)\n",
      "Requirement already satisfied: async-lru>=1.0.0 in /Users/jeannetaoliviasantoso/anaconda3/lib/python3.12/site-packages (from jupyterlab<4.3,>=4.2.0->notebook) (2.0.4)\n",
      "Requirement already satisfied: httpx>=0.25.0 in /Users/jeannetaoliviasantoso/anaconda3/lib/python3.12/site-packages (from jupyterlab<4.3,>=4.2.0->notebook) (0.27.0)\n",
      "Requirement already satisfied: ipykernel>=6.5.0 in /Users/jeannetaoliviasantoso/anaconda3/lib/python3.12/site-packages (from jupyterlab<4.3,>=4.2.0->notebook) (6.28.0)\n",
      "Requirement already satisfied: jupyter-lsp>=2.0.0 in /Users/jeannetaoliviasantoso/anaconda3/lib/python3.12/site-packages (from jupyterlab<4.3,>=4.2.0->notebook) (2.2.0)\n",
      "Requirement already satisfied: setuptools>=40.1.0 in /Users/jeannetaoliviasantoso/anaconda3/lib/python3.12/site-packages (from jupyterlab<4.3,>=4.2.0->notebook) (75.1.0)\n",
      "Requirement already satisfied: babel>=2.10 in /Users/jeannetaoliviasantoso/anaconda3/lib/python3.12/site-packages (from jupyterlab-server<3,>=2.27.1->notebook) (2.11.0)\n",
      "Requirement already satisfied: json5>=0.9.0 in /Users/jeannetaoliviasantoso/anaconda3/lib/python3.12/site-packages (from jupyterlab-server<3,>=2.27.1->notebook) (0.9.6)\n",
      "Requirement already satisfied: jsonschema>=4.18.0 in /Users/jeannetaoliviasantoso/anaconda3/lib/python3.12/site-packages (from jupyterlab-server<3,>=2.27.1->notebook) (4.23.0)\n",
      "Requirement already satisfied: requests>=2.31 in /Users/jeannetaoliviasantoso/anaconda3/lib/python3.12/site-packages (from jupyterlab-server<3,>=2.27.1->notebook) (2.32.3)\n",
      "Requirement already satisfied: idna>=2.8 in /Users/jeannetaoliviasantoso/anaconda3/lib/python3.12/site-packages (from anyio>=3.1.0->jupyter-server<3,>=2.4.0->notebook) (3.7)\n",
      "Requirement already satisfied: sniffio>=1.1 in /Users/jeannetaoliviasantoso/anaconda3/lib/python3.12/site-packages (from anyio>=3.1.0->jupyter-server<3,>=2.4.0->notebook) (1.3.0)\n",
      "Requirement already satisfied: argon2-cffi-bindings in /Users/jeannetaoliviasantoso/anaconda3/lib/python3.12/site-packages (from argon2-cffi>=21.1->jupyter-server<3,>=2.4.0->notebook) (21.2.0)\n",
      "Requirement already satisfied: pytz>=2015.7 in /Users/jeannetaoliviasantoso/anaconda3/lib/python3.12/site-packages (from babel>=2.10->jupyterlab-server<3,>=2.27.1->notebook) (2024.1)\n",
      "Requirement already satisfied: certifi in /Users/jeannetaoliviasantoso/anaconda3/lib/python3.12/site-packages (from httpx>=0.25.0->jupyterlab<4.3,>=4.2.0->notebook) (2024.8.30)\n",
      "Requirement already satisfied: httpcore==1.* in /Users/jeannetaoliviasantoso/anaconda3/lib/python3.12/site-packages (from httpx>=0.25.0->jupyterlab<4.3,>=4.2.0->notebook) (1.0.2)\n",
      "Requirement already satisfied: h11<0.15,>=0.13 in /Users/jeannetaoliviasantoso/anaconda3/lib/python3.12/site-packages (from httpcore==1.*->httpx>=0.25.0->jupyterlab<4.3,>=4.2.0->notebook) (0.14.0)\n",
      "Requirement already satisfied: appnope in /Users/jeannetaoliviasantoso/anaconda3/lib/python3.12/site-packages (from ipykernel>=6.5.0->jupyterlab<4.3,>=4.2.0->notebook) (0.1.3)\n",
      "Requirement already satisfied: comm>=0.1.1 in /Users/jeannetaoliviasantoso/anaconda3/lib/python3.12/site-packages (from ipykernel>=6.5.0->jupyterlab<4.3,>=4.2.0->notebook) (0.2.1)\n",
      "Requirement already satisfied: debugpy>=1.6.5 in /Users/jeannetaoliviasantoso/anaconda3/lib/python3.12/site-packages (from ipykernel>=6.5.0->jupyterlab<4.3,>=4.2.0->notebook) (1.6.7)\n",
      "Requirement already satisfied: ipython>=7.23.1 in /Users/jeannetaoliviasantoso/anaconda3/lib/python3.12/site-packages (from ipykernel>=6.5.0->jupyterlab<4.3,>=4.2.0->notebook) (8.27.0)\n",
      "Requirement already satisfied: matplotlib-inline>=0.1 in /Users/jeannetaoliviasantoso/anaconda3/lib/python3.12/site-packages (from ipykernel>=6.5.0->jupyterlab<4.3,>=4.2.0->notebook) (0.1.6)\n",
      "Requirement already satisfied: nest-asyncio in /Users/jeannetaoliviasantoso/anaconda3/lib/python3.12/site-packages (from ipykernel>=6.5.0->jupyterlab<4.3,>=4.2.0->notebook) (1.6.0)\n",
      "Requirement already satisfied: psutil in /Users/jeannetaoliviasantoso/anaconda3/lib/python3.12/site-packages (from ipykernel>=6.5.0->jupyterlab<4.3,>=4.2.0->notebook) (5.9.0)\n",
      "Requirement already satisfied: MarkupSafe>=2.0 in /Users/jeannetaoliviasantoso/anaconda3/lib/python3.12/site-packages (from jinja2>=3.0.3->jupyter-server<3,>=2.4.0->notebook) (2.1.3)\n",
      "Requirement already satisfied: attrs>=22.2.0 in /Users/jeannetaoliviasantoso/anaconda3/lib/python3.12/site-packages (from jsonschema>=4.18.0->jupyterlab-server<3,>=2.27.1->notebook) (24.2.0)\n",
      "Requirement already satisfied: jsonschema-specifications>=2023.03.6 in /Users/jeannetaoliviasantoso/anaconda3/lib/python3.12/site-packages (from jsonschema>=4.18.0->jupyterlab-server<3,>=2.27.1->notebook) (2023.7.1)\n",
      "Requirement already satisfied: referencing>=0.28.4 in /Users/jeannetaoliviasantoso/anaconda3/lib/python3.12/site-packages (from jsonschema>=4.18.0->jupyterlab-server<3,>=2.27.1->notebook) (0.30.2)\n",
      "Requirement already satisfied: rpds-py>=0.7.1 in /Users/jeannetaoliviasantoso/anaconda3/lib/python3.12/site-packages (from jsonschema>=4.18.0->jupyterlab-server<3,>=2.27.1->notebook) (0.10.6)\n",
      "Requirement already satisfied: python-dateutil>=2.8.2 in /Users/jeannetaoliviasantoso/anaconda3/lib/python3.12/site-packages (from jupyter-client>=7.4.4->jupyter-server<3,>=2.4.0->notebook) (2.9.0.post0)\n",
      "Requirement already satisfied: platformdirs>=2.5 in /Users/jeannetaoliviasantoso/anaconda3/lib/python3.12/site-packages (from jupyter-core!=5.0.*,>=4.12->jupyter-server<3,>=2.4.0->notebook) (3.10.0)\n",
      "Requirement already satisfied: python-json-logger>=2.0.4 in /Users/jeannetaoliviasantoso/anaconda3/lib/python3.12/site-packages (from jupyter-events>=0.9.0->jupyter-server<3,>=2.4.0->notebook) (2.0.7)\n",
      "Requirement already satisfied: pyyaml>=5.3 in /Users/jeannetaoliviasantoso/anaconda3/lib/python3.12/site-packages (from jupyter-events>=0.9.0->jupyter-server<3,>=2.4.0->notebook) (6.0.1)\n",
      "Requirement already satisfied: rfc3339-validator in /Users/jeannetaoliviasantoso/anaconda3/lib/python3.12/site-packages (from jupyter-events>=0.9.0->jupyter-server<3,>=2.4.0->notebook) (0.1.4)\n",
      "Requirement already satisfied: rfc3986-validator>=0.1.1 in /Users/jeannetaoliviasantoso/anaconda3/lib/python3.12/site-packages (from jupyter-events>=0.9.0->jupyter-server<3,>=2.4.0->notebook) (0.1.1)\n",
      "Requirement already satisfied: beautifulsoup4 in /Users/jeannetaoliviasantoso/anaconda3/lib/python3.12/site-packages (from nbconvert>=6.4.4->jupyter-server<3,>=2.4.0->notebook) (4.12.3)\n",
      "Requirement already satisfied: bleach!=5.0.0 in /Users/jeannetaoliviasantoso/anaconda3/lib/python3.12/site-packages (from nbconvert>=6.4.4->jupyter-server<3,>=2.4.0->notebook) (4.1.0)\n",
      "Requirement already satisfied: defusedxml in /Users/jeannetaoliviasantoso/anaconda3/lib/python3.12/site-packages (from nbconvert>=6.4.4->jupyter-server<3,>=2.4.0->notebook) (0.7.1)\n",
      "Requirement already satisfied: jupyterlab-pygments in /Users/jeannetaoliviasantoso/anaconda3/lib/python3.12/site-packages (from nbconvert>=6.4.4->jupyter-server<3,>=2.4.0->notebook) (0.1.2)\n",
      "Requirement already satisfied: mistune<4,>=2.0.3 in /Users/jeannetaoliviasantoso/anaconda3/lib/python3.12/site-packages (from nbconvert>=6.4.4->jupyter-server<3,>=2.4.0->notebook) (2.0.4)\n",
      "Requirement already satisfied: nbclient>=0.5.0 in /Users/jeannetaoliviasantoso/anaconda3/lib/python3.12/site-packages (from nbconvert>=6.4.4->jupyter-server<3,>=2.4.0->notebook) (0.8.0)\n",
      "Requirement already satisfied: pandocfilters>=1.4.1 in /Users/jeannetaoliviasantoso/anaconda3/lib/python3.12/site-packages (from nbconvert>=6.4.4->jupyter-server<3,>=2.4.0->notebook) (1.5.0)\n",
      "Requirement already satisfied: pygments>=2.4.1 in /Users/jeannetaoliviasantoso/anaconda3/lib/python3.12/site-packages (from nbconvert>=6.4.4->jupyter-server<3,>=2.4.0->notebook) (2.15.1)\n",
      "Requirement already satisfied: tinycss2 in /Users/jeannetaoliviasantoso/anaconda3/lib/python3.12/site-packages (from nbconvert>=6.4.4->jupyter-server<3,>=2.4.0->notebook) (1.2.1)\n",
      "Requirement already satisfied: fastjsonschema>=2.15 in /Users/jeannetaoliviasantoso/anaconda3/lib/python3.12/site-packages (from nbformat>=5.3.0->jupyter-server<3,>=2.4.0->notebook) (2.16.2)\n",
      "Requirement already satisfied: charset-normalizer<4,>=2 in /Users/jeannetaoliviasantoso/anaconda3/lib/python3.12/site-packages (from requests>=2.31->jupyterlab-server<3,>=2.27.1->notebook) (3.3.2)\n",
      "Requirement already satisfied: urllib3<3,>=1.21.1 in /Users/jeannetaoliviasantoso/anaconda3/lib/python3.12/site-packages (from requests>=2.31->jupyterlab-server<3,>=2.27.1->notebook) (2.2.3)\n",
      "Requirement already satisfied: ptyprocess in /Users/jeannetaoliviasantoso/anaconda3/lib/python3.12/site-packages (from terminado>=0.8.3->jupyter-server<3,>=2.4.0->notebook) (0.7.0)\n",
      "Requirement already satisfied: six>=1.9.0 in /Users/jeannetaoliviasantoso/anaconda3/lib/python3.12/site-packages (from bleach!=5.0.0->nbconvert>=6.4.4->jupyter-server<3,>=2.4.0->notebook) (1.17.0)\n",
      "Requirement already satisfied: webencodings in /Users/jeannetaoliviasantoso/anaconda3/lib/python3.12/site-packages (from bleach!=5.0.0->nbconvert>=6.4.4->jupyter-server<3,>=2.4.0->notebook) (0.5.1)\n",
      "Requirement already satisfied: decorator in /Users/jeannetaoliviasantoso/anaconda3/lib/python3.12/site-packages (from ipython>=7.23.1->ipykernel>=6.5.0->jupyterlab<4.3,>=4.2.0->notebook) (5.1.1)\n",
      "Requirement already satisfied: jedi>=0.16 in /Users/jeannetaoliviasantoso/anaconda3/lib/python3.12/site-packages (from ipython>=7.23.1->ipykernel>=6.5.0->jupyterlab<4.3,>=4.2.0->notebook) (0.19.1)\n",
      "Requirement already satisfied: prompt-toolkit<3.1.0,>=3.0.41 in /Users/jeannetaoliviasantoso/anaconda3/lib/python3.12/site-packages (from ipython>=7.23.1->ipykernel>=6.5.0->jupyterlab<4.3,>=4.2.0->notebook) (3.0.43)\n",
      "Requirement already satisfied: stack-data in /Users/jeannetaoliviasantoso/anaconda3/lib/python3.12/site-packages (from ipython>=7.23.1->ipykernel>=6.5.0->jupyterlab<4.3,>=4.2.0->notebook) (0.2.0)\n",
      "Requirement already satisfied: pexpect>4.3 in /Users/jeannetaoliviasantoso/anaconda3/lib/python3.12/site-packages (from ipython>=7.23.1->ipykernel>=6.5.0->jupyterlab<4.3,>=4.2.0->notebook) (4.8.0)\n",
      "Collecting fqdn (from jsonschema[format-nongpl]>=4.18.0->jupyter-events>=0.9.0->jupyter-server<3,>=2.4.0->notebook)\n",
      "  Using cached fqdn-1.5.1-py3-none-any.whl.metadata (1.4 kB)\n",
      "Collecting isoduration (from jsonschema[format-nongpl]>=4.18.0->jupyter-events>=0.9.0->jupyter-server<3,>=2.4.0->notebook)\n",
      "  Using cached isoduration-20.11.0-py3-none-any.whl.metadata (5.7 kB)\n",
      "Requirement already satisfied: jsonpointer>1.13 in /Users/jeannetaoliviasantoso/anaconda3/lib/python3.12/site-packages (from jsonschema[format-nongpl]>=4.18.0->jupyter-events>=0.9.0->jupyter-server<3,>=2.4.0->notebook) (2.1)\n",
      "Collecting uri-template (from jsonschema[format-nongpl]>=4.18.0->jupyter-events>=0.9.0->jupyter-server<3,>=2.4.0->notebook)\n",
      "  Using cached uri_template-1.3.0-py3-none-any.whl.metadata (8.8 kB)\n",
      "Collecting webcolors>=24.6.0 (from jsonschema[format-nongpl]>=4.18.0->jupyter-events>=0.9.0->jupyter-server<3,>=2.4.0->notebook)\n",
      "  Using cached webcolors-24.11.1-py3-none-any.whl.metadata (2.2 kB)\n",
      "Requirement already satisfied: cffi>=1.0.1 in /Users/jeannetaoliviasantoso/anaconda3/lib/python3.12/site-packages (from argon2-cffi-bindings->argon2-cffi>=21.1->jupyter-server<3,>=2.4.0->notebook) (1.17.1)\n",
      "Requirement already satisfied: soupsieve>1.2 in /Users/jeannetaoliviasantoso/anaconda3/lib/python3.12/site-packages (from beautifulsoup4->nbconvert>=6.4.4->jupyter-server<3,>=2.4.0->notebook) (2.5)\n",
      "Requirement already satisfied: pycparser in /Users/jeannetaoliviasantoso/anaconda3/lib/python3.12/site-packages (from cffi>=1.0.1->argon2-cffi-bindings->argon2-cffi>=21.1->jupyter-server<3,>=2.4.0->notebook) (2.21)\n",
      "Requirement already satisfied: parso<0.9.0,>=0.8.3 in /Users/jeannetaoliviasantoso/anaconda3/lib/python3.12/site-packages (from jedi>=0.16->ipython>=7.23.1->ipykernel>=6.5.0->jupyterlab<4.3,>=4.2.0->notebook) (0.8.3)\n",
      "Requirement already satisfied: wcwidth in /Users/jeannetaoliviasantoso/anaconda3/lib/python3.12/site-packages (from prompt-toolkit<3.1.0,>=3.0.41->ipython>=7.23.1->ipykernel>=6.5.0->jupyterlab<4.3,>=4.2.0->notebook) (0.2.5)\n",
      "Requirement already satisfied: arrow>=0.15.0 in /Users/jeannetaoliviasantoso/anaconda3/lib/python3.12/site-packages (from isoduration->jsonschema[format-nongpl]>=4.18.0->jupyter-events>=0.9.0->jupyter-server<3,>=2.4.0->notebook) (1.2.3)\n",
      "Requirement already satisfied: executing in /Users/jeannetaoliviasantoso/anaconda3/lib/python3.12/site-packages (from stack-data->ipython>=7.23.1->ipykernel>=6.5.0->jupyterlab<4.3,>=4.2.0->notebook) (0.8.3)\n",
      "Requirement already satisfied: asttokens in /Users/jeannetaoliviasantoso/anaconda3/lib/python3.12/site-packages (from stack-data->ipython>=7.23.1->ipykernel>=6.5.0->jupyterlab<4.3,>=4.2.0->notebook) (2.0.5)\n",
      "Requirement already satisfied: pure-eval in /Users/jeannetaoliviasantoso/anaconda3/lib/python3.12/site-packages (from stack-data->ipython>=7.23.1->ipykernel>=6.5.0->jupyterlab<4.3,>=4.2.0->notebook) (0.2.2)\n",
      "Using cached webcolors-24.11.1-py3-none-any.whl (14 kB)\n",
      "Using cached fqdn-1.5.1-py3-none-any.whl (9.1 kB)\n",
      "Using cached isoduration-20.11.0-py3-none-any.whl (11 kB)\n",
      "Using cached uri_template-1.3.0-py3-none-any.whl (11 kB)\n",
      "Installing collected packages: webcolors, uri-template, fqdn, isoduration\n",
      "Successfully installed fqdn-1.5.1 isoduration-20.11.0 uri-template-1.3.0 webcolors-24.11.1\n",
      "Note: you may need to restart the kernel to use updated packages.\n"
     ]
    }
   ],
   "source": [
    "pip install notebook\n"
   ]
  },
  {
   "cell_type": "code",
   "execution_count": null,
   "id": "7905057a-3b65-4ffc-9755-13489b6673d3",
   "metadata": {},
   "outputs": [],
   "source": []
  }
 ],
 "metadata": {
  "kernelspec": {
   "display_name": "Python 3 (ipykernel)",
   "language": "python",
   "name": "python3"
  },
  "language_info": {
   "codemirror_mode": {
    "name": "ipython",
    "version": 3
   },
   "file_extension": ".py",
   "mimetype": "text/x-python",
   "name": "python",
   "nbconvert_exporter": "python",
   "pygments_lexer": "ipython3",
   "version": "3.12.7"
  }
 },
 "nbformat": 4,
 "nbformat_minor": 5
}
